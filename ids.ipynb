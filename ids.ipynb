{
  "cells": [
    {
      "cell_type": "code",
      "execution_count": 3,
      "metadata": {
        "id": "jT_ujFbL0rWY",
        "colab": {
          "base_uri": "https://localhost:8080/"
        },
        "outputId": "149e03fb-e207-4943-ffe6-0cbee2d9063d"
      },
      "outputs": [
        {
          "output_type": "stream",
          "name": "stdout",
          "text": [
            "pandas : 2.2.2\n",
            "numpy : 2.0.2\n",
            "matplotlib : 3.10.0\n",
            "sklearn : 1.6.1\n",
            "Tensorflow : 2.18.0\n",
            "Keras : 3.8.0\n"
          ]
        }
      ],
      "source": [
        "!pip install -q pandas scikit-learn tensorflow keras numpy matplotlib\n",
        "\n",
        "import pandas\n",
        "import numpy\n",
        "import matplotlib\n",
        "import sklearn\n",
        "import tensorflow\n",
        "import keras\n",
        "\n",
        "print(\"pandas : {0}\".format(pandas.__version__))\n",
        "print(\"numpy : {0}\".format(numpy.__version__))\n",
        "print(\"matplotlib : {0}\".format(matplotlib.__version__))\n",
        "print(\"sklearn : {0}\".format(sklearn.__version__))\n",
        "print(\"Tensorflow : {0}\".format(tensorflow.__version__))\n",
        "print(\"Keras : {0}\".format(keras.__version__))"
      ]
    },
    {
      "cell_type": "code",
      "source": [],
      "metadata": {
        "id": "Q--tglYwhOVA"
      },
      "execution_count": null,
      "outputs": []
    }
  ],
  "metadata": {
    "colab": {
      "provenance": []
    },
    "language_info": {
      "name": "python"
    },
    "kernelspec": {
      "name": "python3",
      "display_name": "Python 3"
    }
  },
  "nbformat": 4,
  "nbformat_minor": 0
}