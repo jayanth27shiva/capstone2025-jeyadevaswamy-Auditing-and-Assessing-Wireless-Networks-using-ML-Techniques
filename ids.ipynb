
!pip install -q pandas scikit-learn tensorflow


import pandas as pd
import numpy as np
from sklearn.preprocessing import LabelEncoder, StandardScaler
from sklearn.model_selection import train_test_split
from sklearn.ensemble import RandomForestClassifier
from sklearn.tree import DecisionTreeClassifier
from sklearn.metrics import classification_report, confusion_matrix, accuracy_score
import tensorflow as tf
from tensorflow.keras.models import Sequential
from tensorflow.keras.layers import Dense
